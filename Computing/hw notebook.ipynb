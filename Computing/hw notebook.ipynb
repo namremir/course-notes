{
 "cells": [
  {
   "cell_type": "markdown",
   "metadata": {},
   "source": [
    "Work for homework 1"
   ]
  },
  {
   "cell_type": "code",
   "execution_count": 1,
   "metadata": {},
   "outputs": [
    {
     "data": {
      "text/plain": [
       "3"
      ]
     },
     "execution_count": 1,
     "metadata": {},
     "output_type": "execute_result"
    }
   ],
   "source": [
    "def max_two(x, y):\n",
    "    \"\"\"\n",
    "    Returns the maximum value of two numbers\n",
    "    \n",
    "    Input:\n",
    "        x and y, numbers to which the find the max\n",
    "        \n",
    "    Output:\n",
    "        max: the maximum of the two numbers\n",
    "    \n",
    "    \"\"\"\n",
    "    if x>=y:\n",
    "        return x\n",
    "    else:\n",
    "        return y\n",
    "\n",
    "max_two(3, 3)"
   ]
  },
  {
   "cell_type": "code",
   "execution_count": 5,
   "metadata": {},
   "outputs": [
    {
     "data": {
      "text/plain": [
       "56.9"
      ]
     },
     "execution_count": 5,
     "metadata": {},
     "output_type": "execute_result"
    }
   ],
   "source": [
    "def max_three(x, y, z):\n",
    "    \"\"\"\n",
    "    Returns the maximum value of three numbers\n",
    "\n",
    "    Input:\n",
    "        x, y, z, numbers to which the find the max\n",
    "\n",
    "    Output:\n",
    "        max: the maximum of the three numbers\n",
    "    \"\"\"\n",
    "    m1 = max_two(x,y)\n",
    "    return max_two(m1,z)\n",
    "\n",
    "max_three(1.1,56.9,10)"
   ]
  },
  {
   "cell_type": "code",
   "execution_count": 10,
   "metadata": {},
   "outputs": [
    {
     "data": {
      "text/plain": [
       "8.4"
      ]
     },
     "execution_count": 10,
     "metadata": {},
     "output_type": "execute_result"
    }
   ],
   "source": [
    "def min_three(x, y, z):\n",
    "    \"\"\"\n",
    "    Returns the minimum value of three numbers\n",
    "    \n",
    "    Input:\n",
    "        x, y, x, numbers to which to find the min\n",
    "        \n",
    "    Output:\n",
    "        min: the minomum of the three numbers\n",
    "    \"\"\"\n",
    "    maximum = max_three(x,y,z)\n",
    "    if x==maximum:\n",
    "        medium=max_two(y,z)\n",
    "        if y==medium:\n",
    "            return z\n",
    "        else:\n",
    "            return y\n",
    "    elif y==maximum:\n",
    "        medium=max_two(x,z)\n",
    "        if x==medium:\n",
    "            return z\n",
    "        else:\n",
    "            return x\n",
    "    else:\n",
    "        medium=max_two(x,y)\n",
    "        if x==medium:\n",
    "            return y\n",
    "        else:\n",
    "            return x\n",
    "\n",
    "min_three(10,15.7,8.4)"
   ]
  },
  {
   "cell_type": "code",
   "execution_count": 4,
   "metadata": {},
   "outputs": [
    {
     "name": "stdout",
     "output_type": "stream",
     "text": [
      "ab\n"
     ]
    },
    {
     "data": {
      "text/plain": [
       "2"
      ]
     },
     "execution_count": 4,
     "metadata": {},
     "output_type": "execute_result"
    }
   ],
   "source": [
    "reverse=\"\"\n",
    "reverse=reverse+\"a\"\n",
    "reverse=reverse+\"b\"\n",
    "print(reverse)\n",
    "len(reverse)"
   ]
  },
  {
   "cell_type": "code",
   "execution_count": 28,
   "metadata": {},
   "outputs": [
    {
     "data": {
      "text/plain": [
       "'?eman ruoy si tahw'"
      ]
     },
     "execution_count": 28,
     "metadata": {},
     "output_type": "execute_result"
    }
   ],
   "source": [
    "def reverse(word):\n",
    "    \"\"\"\n",
    "    Returns a string in reverse order\n",
    "    \n",
    "    Input:\n",
    "        word, a string which to make backwords\n",
    "        \n",
    "    Output:\n",
    "        drow, a string that in the reverse order of word\n",
    "    \"\"\"\n",
    "    #length=len(word)\n",
    "    #reverse=\"\"\n",
    "    #for i in range(length):\n",
    "    #    reverse=reverse+word[length-1-i]\n",
    "    return word[::-1]\n",
    "\n",
    "\n",
    "reverse(\"what is your name?\")"
   ]
  },
  {
   "cell_type": "code",
   "execution_count": 34,
   "metadata": {},
   "outputs": [
    {
     "data": {
      "text/plain": [
       "6"
      ]
     },
     "execution_count": 34,
     "metadata": {},
     "output_type": "execute_result"
    }
   ],
   "source": [
    "def string_length(word):\n",
    "    \"\"\"Function Description Here\n",
    "    \"\"\"\n",
    "    length=0\n",
    "    for letter in word:\n",
    "        length+=1\n",
    "    return length\n",
    "\n",
    "string_length(\"abcdef\")"
   ]
  },
  {
   "cell_type": "code",
   "execution_count": 37,
   "metadata": {},
   "outputs": [
    {
     "data": {
      "text/plain": [
       "False"
      ]
     },
     "execution_count": 37,
     "metadata": {},
     "output_type": "execute_result"
    }
   ],
   "source": [
    "def is_palindrome(word):\n",
    "    \"\"\"\n",
    "    Returns a true or false pased on if the input is a palindrome or not\n",
    "    \n",
    "    Input:\n",
    "        word, a string which to check if it is a palindrome\n",
    "        \n",
    "    Output:\n",
    "        True, if word is a palindrome\n",
    "        False, if word is not a palindrome\n",
    "    \"\"\"\n",
    "    word=word.replace(\" \",\"\")\n",
    "    word=word.lower()\n",
    "    if word==reverse(word):\n",
    "        return True\n",
    "    else:\n",
    "        return False\n",
    "\n",
    "is_palindrome(\"B man A plan a canal panama\")\n"
   ]
  },
  {
   "cell_type": "code",
   "execution_count": 44,
   "metadata": {},
   "outputs": [
    {
     "name": "stdout",
     "output_type": "stream",
     "text": [
      "001. f_1(0.900)=3.95(0.900)(1-0.900)=0.355, f_2(0.900)=3.95(0.900)-3.95(0.900^2)=0.355, f_3(0.900)=3.95(0.900-0.900^2)=0.355\n",
      "002. f_1(0.355)=3.95(0.355)(1-0.355)=0.905, f_2(0.355)=3.95(0.355)-3.95(0.355^2)=0.905, f_3(0.355)=3.95(0.355-0.355^2)=0.905\n",
      "003. f_1(0.905)=3.95(0.905)(1-0.905)=0.340, f_2(0.905)=3.95(0.905)-3.95(0.905^2)=0.340, f_3(0.905)=3.95(0.905-0.905^2)=0.340\n",
      "004. f_1(0.340)=3.95(0.340)(1-0.340)=0.886, f_2(0.340)=3.95(0.340)-3.95(0.340^2)=0.886, f_3(0.340)=3.95(0.340-0.340^2)=0.886\n",
      "005. f_1(0.886)=3.95(0.886)(1-0.886)=0.400, f_2(0.886)=3.95(0.886)-3.95(0.886^2)=0.400, f_3(0.886)=3.95(0.886-0.886^2)=0.400\n",
      "006. f_1(0.400)=3.95(0.400)(1-0.400)=0.948, f_2(0.400)=3.95(0.400)-3.95(0.400^2)=0.948, f_3(0.400)=3.95(0.400-0.400^2)=0.948\n",
      "007. f_1(0.948)=3.95(0.948)(1-0.948)=0.196, f_2(0.948)=3.95(0.948)-3.95(0.948^2)=0.196, f_3(0.948)=3.95(0.948-0.948^2)=0.196\n",
      "008. f_1(0.196)=3.95(0.196)(1-0.196)=0.622, f_2(0.196)=3.95(0.196)-3.95(0.196^2)=0.622, f_3(0.196)=3.95(0.196-0.196^2)=0.622\n",
      "009. f_1(0.622)=3.95(0.622)(1-0.622)=0.929, f_2(0.622)=3.95(0.622)-3.95(0.622^2)=0.929, f_3(0.622)=3.95(0.622-0.622^2)=0.929\n",
      "010. f_1(0.929)=3.95(0.929)(1-0.929)=0.261, f_2(0.929)=3.95(0.929)-3.95(0.929^2)=0.261, f_3(0.929)=3.95(0.929-0.929^2)=0.261\n",
      "011. f_1(0.261)=3.95(0.261)(1-0.261)=0.762, f_2(0.261)=3.95(0.261)-3.95(0.261^2)=0.762, f_3(0.261)=3.95(0.261-0.261^2)=0.762\n",
      "012. f_1(0.762)=3.95(0.762)(1-0.762)=0.716, f_2(0.762)=3.95(0.762)-3.95(0.762^2)=0.716, f_3(0.762)=3.95(0.762-0.762^2)=0.716\n",
      "013. f_1(0.716)=3.95(0.716)(1-0.716)=0.803, f_2(0.716)=3.95(0.716)-3.95(0.716^2)=0.803, f_3(0.716)=3.95(0.716-0.716^2)=0.803\n",
      "014. f_1(0.803)=3.95(0.803)(1-0.803)=0.625, f_2(0.803)=3.95(0.803)-3.95(0.803^2)=0.625, f_3(0.803)=3.95(0.803-0.803^2)=0.625\n",
      "015. f_1(0.625)=3.95(0.625)(1-0.625)=0.925, f_2(0.625)=3.95(0.625)-3.95(0.625^2)=0.925, f_3(0.625)=3.95(0.625-0.625^2)=0.925\n",
      "016. f_1(0.925)=3.95(0.925)(1-0.925)=0.273, f_2(0.925)=3.95(0.925)-3.95(0.925^2)=0.273, f_3(0.925)=3.95(0.925-0.925^2)=0.273\n",
      "017. f_1(0.273)=3.95(0.273)(1-0.273)=0.784, f_2(0.273)=3.95(0.273)-3.95(0.273^2)=0.784, f_3(0.273)=3.95(0.273-0.273^2)=0.784\n",
      "018. f_1(0.784)=3.95(0.784)(1-0.784)=0.670, f_2(0.784)=3.95(0.784)-3.95(0.784^2)=0.670, f_3(0.784)=3.95(0.784-0.784^2)=0.670\n",
      "019. f_1(0.670)=3.95(0.670)(1-0.670)=0.874, f_2(0.670)=3.95(0.670)-3.95(0.670^2)=0.874, f_3(0.670)=3.95(0.670-0.670^2)=0.874\n",
      "020. f_1(0.874)=3.95(0.874)(1-0.874)=0.436, f_2(0.874)=3.95(0.874)-3.95(0.874^2)=0.436, f_3(0.874)=3.95(0.874-0.874^2)=0.436\n",
      "021. f_1(0.436)=3.95(0.436)(1-0.436)=0.971, f_2(0.436)=3.95(0.436)-3.95(0.436^2)=0.971, f_3(0.436)=3.95(0.436-0.436^2)=0.971\n",
      "022. f_1(0.971)=3.95(0.971)(1-0.971)=0.110, f_2(0.971)=3.95(0.971)-3.95(0.971^2)=0.110, f_3(0.971)=3.95(0.971-0.971^2)=0.110\n",
      "023. f_1(0.110)=3.95(0.110)(1-0.110)=0.386, f_2(0.110)=3.95(0.110)-3.95(0.110^2)=0.386, f_3(0.110)=3.95(0.110-0.110^2)=0.386\n",
      "024. f_1(0.386)=3.95(0.386)(1-0.386)=0.936, f_2(0.386)=3.95(0.386)-3.95(0.386^2)=0.936, f_3(0.386)=3.95(0.386-0.386^2)=0.936\n",
      "025. f_1(0.936)=3.95(0.936)(1-0.936)=0.237, f_2(0.936)=3.95(0.936)-3.95(0.936^2)=0.237, f_3(0.936)=3.95(0.936-0.936^2)=0.237\n",
      "026. f_1(0.237)=3.95(0.237)(1-0.237)=0.714, f_2(0.237)=3.95(0.237)-3.95(0.237^2)=0.714, f_3(0.237)=3.95(0.237-0.237^2)=0.714\n",
      "027. f_1(0.714)=3.95(0.714)(1-0.714)=0.807, f_2(0.714)=3.95(0.714)-3.95(0.714^2)=0.807, f_3(0.714)=3.95(0.714-0.714^2)=0.807\n",
      "028. f_1(0.807)=3.95(0.807)(1-0.807)=0.616, f_2(0.807)=3.95(0.807)-3.95(0.807^2)=0.616, f_3(0.807)=3.95(0.807-0.807^2)=0.616\n",
      "029. f_1(0.616)=3.95(0.616)(1-0.616)=0.934, f_2(0.616)=3.95(0.616)-3.95(0.616^2)=0.934, f_3(0.616)=3.95(0.616-0.616^2)=0.934\n",
      "030. f_1(0.934)=3.95(0.934)(1-0.934)=0.243, f_2(0.934)=3.95(0.934)-3.95(0.934^2)=0.243, f_3(0.934)=3.95(0.934-0.934^2)=0.243\n",
      "031. f_1(0.243)=3.95(0.243)(1-0.243)=0.727, f_2(0.243)=3.95(0.243)-3.95(0.243^2)=0.727, f_3(0.243)=3.95(0.243-0.243^2)=0.727\n",
      "032. f_1(0.727)=3.95(0.727)(1-0.727)=0.783, f_2(0.727)=3.95(0.727)-3.95(0.727^2)=0.783, f_3(0.727)=3.95(0.727-0.727^2)=0.783\n",
      "033. f_1(0.783)=3.95(0.783)(1-0.783)=0.671, f_2(0.783)=3.95(0.783)-3.95(0.783^2)=0.671, f_3(0.783)=3.95(0.783-0.783^2)=0.671\n",
      "034. f_1(0.671)=3.95(0.671)(1-0.671)=0.872, f_2(0.671)=3.95(0.671)-3.95(0.671^2)=0.872, f_3(0.671)=3.95(0.671-0.671^2)=0.872\n",
      "035. f_1(0.872)=3.95(0.872)(1-0.872)=0.441, f_2(0.872)=3.95(0.872)-3.95(0.872^2)=0.441, f_3(0.872)=3.95(0.872-0.872^2)=0.441\n",
      "036. f_1(0.441)=3.95(0.441)(1-0.441)=0.974, f_2(0.441)=3.95(0.441)-3.95(0.441^2)=0.974, f_3(0.441)=3.95(0.441-0.441^2)=0.974\n",
      "037. f_1(0.974)=3.95(0.974)(1-0.974)=0.101, f_2(0.974)=3.95(0.974)-3.95(0.974^2)=0.101, f_3(0.974)=3.95(0.974-0.974^2)=0.101\n",
      "038. f_1(0.101)=3.95(0.101)(1-0.101)=0.360, f_2(0.101)=3.95(0.101)-3.95(0.101^2)=0.360, f_3(0.101)=3.95(0.101-0.101^2)=0.360\n",
      "039. f_1(0.360)=3.95(0.360)(1-0.360)=0.910, f_2(0.360)=3.95(0.360)-3.95(0.360^2)=0.910, f_3(0.360)=3.95(0.360-0.360^2)=0.910\n",
      "040. f_1(0.910)=3.95(0.910)(1-0.910)=0.322, f_2(0.910)=3.95(0.910)-3.95(0.910^2)=0.322, f_3(0.910)=3.95(0.910-0.910^2)=0.322\n",
      "041. f_1(0.322)=3.95(0.322)(1-0.322)=0.863, f_2(0.322)=3.95(0.322)-3.95(0.322^2)=0.863, f_3(0.322)=3.95(0.322-0.322^2)=0.863\n",
      "042. f_1(0.863)=3.95(0.863)(1-0.863)=0.467, f_2(0.863)=3.95(0.863)-3.95(0.863^2)=0.467, f_3(0.863)=3.95(0.863-0.863^2)=0.467\n",
      "043. f_1(0.467)=3.95(0.467)(1-0.467)=0.983, f_2(0.467)=3.95(0.467)-3.95(0.467^2)=0.983, f_3(0.467)=3.95(0.467-0.467^2)=0.983\n",
      "044. f_1(0.983)=3.95(0.983)(1-0.983)=0.065, f_2(0.983)=3.95(0.983)-3.95(0.983^2)=0.065, f_3(0.983)=3.95(0.983-0.983^2)=0.065\n",
      "045. f_1(0.065)=3.95(0.065)(1-0.065)=0.241, f_2(0.065)=3.95(0.065)-3.95(0.065^2)=0.241, f_3(0.065)=3.95(0.065-0.065^2)=0.241\n",
      "046. f_1(0.241)=3.95(0.241)(1-0.241)=0.723, f_2(0.241)=3.95(0.241)-3.95(0.241^2)=0.723, f_3(0.241)=3.95(0.241-0.241^2)=0.723\n",
      "047. f_1(0.723)=3.95(0.723)(1-0.723)=0.792, f_2(0.723)=3.95(0.723)-3.95(0.723^2)=0.791, f_3(0.723)=3.95(0.723-0.723^2)=0.791\n",
      "048. f_1(0.792)=3.95(0.792)(1-0.792)=0.652, f_2(0.791)=3.95(0.791)-3.95(0.791^2)=0.652, f_3(0.791)=3.95(0.791-0.791^2)=0.653\n",
      "049. f_1(0.652)=3.95(0.652)(1-0.652)=0.897, f_2(0.652)=3.95(0.652)-3.95(0.652^2)=0.896, f_3(0.653)=3.95(0.653-0.653^2)=0.896\n",
      "050. f_1(0.897)=3.95(0.897)(1-0.897)=0.365, f_2(0.896)=3.95(0.896)-3.95(0.896^2)=0.367, f_3(0.896)=3.95(0.896-0.896^2)=0.370\n",
      "051. f_1(0.365)=3.95(0.365)(1-0.365)=0.916, f_2(0.367)=3.95(0.367)-3.95(0.367^2)=0.918, f_3(0.370)=3.95(0.370-0.370^2)=0.920\n",
      "052. f_1(0.916)=3.95(0.916)(1-0.916)=0.304, f_2(0.918)=3.95(0.918)-3.95(0.918^2)=0.298, f_3(0.920)=3.95(0.920-0.920^2)=0.290\n",
      "053. f_1(0.304)=3.95(0.304)(1-0.304)=0.835, f_2(0.298)=3.95(0.298)-3.95(0.298^2)=0.826, f_3(0.290)=3.95(0.290-0.290^2)=0.813\n",
      "054. f_1(0.835)=3.95(0.835)(1-0.835)=0.543, f_2(0.826)=3.95(0.826)-3.95(0.826^2)=0.567, f_3(0.813)=3.95(0.813-0.813^2)=0.602\n",
      "055. f_1(0.543)=3.95(0.543)(1-0.543)=0.980, f_2(0.567)=3.95(0.567)-3.95(0.567^2)=0.970, f_3(0.602)=3.95(0.602-0.602^2)=0.947\n",
      "056. f_1(0.980)=3.95(0.980)(1-0.980)=0.077, f_2(0.970)=3.95(0.970)-3.95(0.970^2)=0.116, f_3(0.947)=3.95(0.947-0.947^2)=0.199\n",
      "057. f_1(0.077)=3.95(0.077)(1-0.077)=0.280, f_2(0.116)=3.95(0.116)-3.95(0.116^2)=0.405, f_3(0.199)=3.95(0.199-0.199^2)=0.630\n",
      "058. f_1(0.280)=3.95(0.280)(1-0.280)=0.796, f_2(0.405)=3.95(0.405)-3.95(0.405^2)=0.952, f_3(0.630)=3.95(0.630-0.630^2)=0.921\n",
      "059. f_1(0.796)=3.95(0.796)(1-0.796)=0.641, f_2(0.952)=3.95(0.952)-3.95(0.952^2)=0.181, f_3(0.921)=3.95(0.921-0.921^2)=0.287\n",
      "060. f_1(0.641)=3.95(0.641)(1-0.641)=0.909, f_2(0.181)=3.95(0.181)-3.95(0.181^2)=0.585, f_3(0.287)=3.95(0.287-0.287^2)=0.809\n",
      "061. f_1(0.909)=3.95(0.909)(1-0.909)=0.327, f_2(0.585)=3.95(0.585)-3.95(0.585^2)=0.959, f_3(0.809)=3.95(0.809-0.809^2)=0.611\n",
      "062. f_1(0.327)=3.95(0.327)(1-0.327)=0.869, f_2(0.959)=3.95(0.959)-3.95(0.959^2)=0.156, f_3(0.611)=3.95(0.611-0.611^2)=0.939\n",
      "063. f_1(0.869)=3.95(0.869)(1-0.869)=0.448, f_2(0.156)=3.95(0.156)-3.95(0.156^2)=0.521, f_3(0.939)=3.95(0.939-0.939^2)=0.227\n",
      "064. f_1(0.448)=3.95(0.448)(1-0.448)=0.977, f_2(0.521)=3.95(0.521)-3.95(0.521^2)=0.986, f_3(0.227)=3.95(0.227-0.227^2)=0.692\n",
      "065. f_1(0.977)=3.95(0.977)(1-0.977)=0.089, f_2(0.986)=3.95(0.986)-3.95(0.986^2)=0.055, f_3(0.692)=3.95(0.692-0.692^2)=0.841\n",
      "066. f_1(0.089)=3.95(0.089)(1-0.089)=0.320, f_2(0.055)=3.95(0.055)-3.95(0.055^2)=0.206, f_3(0.841)=3.95(0.841-0.841^2)=0.527\n",
      "067. f_1(0.320)=3.95(0.320)(1-0.320)=0.860, f_2(0.206)=3.95(0.206)-3.95(0.206^2)=0.647, f_3(0.527)=3.95(0.527-0.527^2)=0.985\n",
      "068. f_1(0.860)=3.95(0.860)(1-0.860)=0.475, f_2(0.647)=3.95(0.647)-3.95(0.647^2)=0.902, f_3(0.985)=3.95(0.985-0.985^2)=0.060\n",
      "069. f_1(0.475)=3.95(0.475)(1-0.475)=0.985, f_2(0.902)=3.95(0.902)-3.95(0.902^2)=0.349, f_3(0.060)=3.95(0.060-0.060^2)=0.222\n",
      "070. f_1(0.985)=3.95(0.985)(1-0.985)=0.058, f_2(0.349)=3.95(0.349)-3.95(0.349^2)=0.897, f_3(0.222)=3.95(0.222-0.222^2)=0.683\n",
      "071. f_1(0.058)=3.95(0.058)(1-0.058)=0.216, f_2(0.897)=3.95(0.897)-3.95(0.897^2)=0.364, f_3(0.683)=3.95(0.683-0.683^2)=0.855\n",
      "072. f_1(0.216)=3.95(0.216)(1-0.216)=0.670, f_2(0.364)=3.95(0.364)-3.95(0.364^2)=0.914, f_3(0.855)=3.95(0.855-0.855^2)=0.489\n",
      "073. f_1(0.670)=3.95(0.670)(1-0.670)=0.874, f_2(0.914)=3.95(0.914)-3.95(0.914^2)=0.309, f_3(0.489)=3.95(0.489-0.489^2)=0.987\n",
      "074. f_1(0.874)=3.95(0.874)(1-0.874)=0.436, f_2(0.309)=3.95(0.309)-3.95(0.309^2)=0.844, f_3(0.987)=3.95(0.987-0.987^2)=0.051\n",
      "075. f_1(0.436)=3.95(0.436)(1-0.436)=0.971, f_2(0.844)=3.95(0.844)-3.95(0.844^2)=0.521, f_3(0.051)=3.95(0.051-0.051^2)=0.190\n",
      "076. f_1(0.971)=3.95(0.971)(1-0.971)=0.110, f_2(0.521)=3.95(0.521)-3.95(0.521^2)=0.986, f_3(0.190)=3.95(0.190-0.190^2)=0.607\n",
      "077. f_1(0.110)=3.95(0.110)(1-0.110)=0.387, f_2(0.986)=3.95(0.986)-3.95(0.986^2)=0.056, f_3(0.607)=3.95(0.607-0.607^2)=0.942\n",
      "078. f_1(0.387)=3.95(0.387)(1-0.387)=0.937, f_2(0.056)=3.95(0.056)-3.95(0.056^2)=0.207, f_3(0.942)=3.95(0.942-0.942^2)=0.214\n",
      "079. f_1(0.937)=3.95(0.937)(1-0.937)=0.232, f_2(0.207)=3.95(0.207)-3.95(0.207^2)=0.649, f_3(0.214)=3.95(0.214-0.214^2)=0.666\n",
      "080. f_1(0.232)=3.95(0.232)(1-0.232)=0.705, f_2(0.649)=3.95(0.649)-3.95(0.649^2)=0.900, f_3(0.666)=3.95(0.666-0.666^2)=0.879\n",
      "081. f_1(0.705)=3.95(0.705)(1-0.705)=0.822, f_2(0.900)=3.95(0.900)-3.95(0.900^2)=0.355, f_3(0.879)=3.95(0.879-0.879^2)=0.419\n",
      "082. f_1(0.822)=3.95(0.822)(1-0.822)=0.578, f_2(0.355)=3.95(0.355)-3.95(0.355^2)=0.905, f_3(0.419)=3.95(0.419-0.419^2)=0.962\n",
      "083. f_1(0.578)=3.95(0.578)(1-0.578)=0.963, f_2(0.905)=3.95(0.905)-3.95(0.905^2)=0.341, f_3(0.962)=3.95(0.962-0.962^2)=0.145\n",
      "084. f_1(0.963)=3.95(0.963)(1-0.963)=0.139, f_2(0.341)=3.95(0.341)-3.95(0.341^2)=0.887, f_3(0.145)=3.95(0.145-0.145^2)=0.490\n",
      "085. f_1(0.139)=3.95(0.139)(1-0.139)=0.473, f_2(0.887)=3.95(0.887)-3.95(0.887^2)=0.395, f_3(0.490)=3.95(0.490-0.490^2)=0.987\n",
      "086. f_1(0.473)=3.95(0.473)(1-0.473)=0.985, f_2(0.395)=3.95(0.395)-3.95(0.395^2)=0.944, f_3(0.987)=3.95(0.987-0.987^2)=0.050\n",
      "087. f_1(0.985)=3.95(0.985)(1-0.985)=0.060, f_2(0.944)=3.95(0.944)-3.95(0.944^2)=0.208, f_3(0.050)=3.95(0.050-0.050^2)=0.188\n",
      "088. f_1(0.060)=3.95(0.060)(1-0.060)=0.222, f_2(0.208)=3.95(0.208)-3.95(0.208^2)=0.651, f_3(0.188)=3.95(0.188-0.188^2)=0.604\n",
      "089. f_1(0.222)=3.95(0.222)(1-0.222)=0.682, f_2(0.651)=3.95(0.651)-3.95(0.651^2)=0.897, f_3(0.604)=3.95(0.604-0.604^2)=0.945\n",
      "090. f_1(0.682)=3.95(0.682)(1-0.682)=0.857, f_2(0.897)=3.95(0.897)-3.95(0.897^2)=0.364, f_3(0.945)=3.95(0.945-0.945^2)=0.205\n",
      "091. f_1(0.857)=3.95(0.857)(1-0.857)=0.483, f_2(0.364)=3.95(0.364)-3.95(0.364^2)=0.914, f_3(0.205)=3.95(0.205-0.205^2)=0.645\n",
      "092. f_1(0.483)=3.95(0.483)(1-0.483)=0.986, f_2(0.914)=3.95(0.914)-3.95(0.914^2)=0.310, f_3(0.645)=3.95(0.645-0.645^2)=0.905\n",
      "093. f_1(0.986)=3.95(0.986)(1-0.986)=0.053, f_2(0.310)=3.95(0.310)-3.95(0.310^2)=0.845, f_3(0.905)=3.95(0.905-0.905^2)=0.340\n",
      "094. f_1(0.053)=3.95(0.053)(1-0.053)=0.199, f_2(0.845)=3.95(0.845)-3.95(0.845^2)=0.517, f_3(0.340)=3.95(0.340-0.340^2)=0.886\n",
      "095. f_1(0.199)=3.95(0.199)(1-0.199)=0.629, f_2(0.517)=3.95(0.517)-3.95(0.517^2)=0.986, f_3(0.886)=3.95(0.886-0.886^2)=0.398\n",
      "096. f_1(0.629)=3.95(0.629)(1-0.629)=0.922, f_2(0.986)=3.95(0.986)-3.95(0.986^2)=0.053, f_3(0.398)=3.95(0.398-0.398^2)=0.946\n",
      "097. f_1(0.922)=3.95(0.922)(1-0.922)=0.283, f_2(0.053)=3.95(0.053)-3.95(0.053^2)=0.199, f_3(0.946)=3.95(0.946-0.946^2)=0.202\n",
      "098. f_1(0.283)=3.95(0.283)(1-0.283)=0.802, f_2(0.199)=3.95(0.199)-3.95(0.199^2)=0.630, f_3(0.202)=3.95(0.202-0.202^2)=0.636\n",
      "099. f_1(0.802)=3.95(0.802)(1-0.802)=0.628, f_2(0.630)=3.95(0.630)-3.95(0.630^2)=0.921, f_3(0.636)=3.95(0.636-0.636^2)=0.915\n",
      "100. f_1(0.628)=3.95(0.628)(1-0.628)=0.923, f_2(0.921)=3.95(0.921)-3.95(0.921^2)=0.288, f_3(0.915)=3.95(0.915-0.915^2)=0.308\n",
      "101. f_1(0.923)=3.95(0.923)(1-0.923)=0.281, f_2(0.288)=3.95(0.288)-3.95(0.288^2)=0.810, f_3(0.308)=3.95(0.308-0.308^2)=0.842\n"
     ]
    }
   ],
   "source": [
    "def alg_test(x, n):\n",
    "    \"\"\"\n",
    "    Prints the results of each of the following equivalent functions: \n",
    "        f_1(x)=3.95x(1-x), f_2(x)=3.95x-3.95x^2, f_3(x)=3.95(x-x^2),\n",
    "    for each iteration of x as specified by the input.\n",
    "    The resulting f(x) becomes the new input for all three functions\n",
    "    \n",
    "    Input:\n",
    "        x, a float in [0,1], the original input for all the functions\n",
    "        n, an integer of the number of additional times to use the output of \n",
    "            the functions as an additional input\n",
    "            \n",
    "    Output:\n",
    "        The function will not return anything.\n",
    "        Instead the following is printed to the screen:\n",
    "            the outputs for all three functions for each time that each \n",
    "            function was used\n",
    "    \"\"\"\n",
    "    answer1=x\n",
    "    answer2=x\n",
    "    answer3=x\n",
    "    number=1\n",
    "    \n",
    "    for i in range(n+1):\n",
    "        answer1b=3.95*answer1*(1-answer1)\n",
    "        answer2b=3.95*answer2-3.95*(answer2**2)\n",
    "        answer3b=3.95*(answer3-answer3**2)\n",
    "        print(f'{number:03}. f_1({answer1:.3f})=3.95({answer1:.3f})(1-{answer1:.3f})={answer1b:.3f}, f_2({answer2:.3f})=3.95({answer2:.3f})-3.95({answer2:.3f}^2)={answer2b:.3f}, f_3({answer3:.3f})=3.95({answer3:.3f}-{answer3:.3f}^2)={answer3b:.3f}')\n",
    "        answer1=answer1b\n",
    "        answer2=answer2b\n",
    "        answer3=answer3b\n",
    "        number+=1\n",
    "    pass\n",
    "\n",
    "alg_test(.9,100)"
   ]
  },
  {
   "cell_type": "code",
   "execution_count": 49,
   "metadata": {},
   "outputs": [
    {
     "data": {
      "text/plain": [
       "False"
      ]
     },
     "execution_count": 49,
     "metadata": {},
     "output_type": "execute_result"
    }
   ],
   "source": [
    "def happy(x):\n",
    "    \"\"\"\n",
    "    Returns a boolean of T or F if the inputted integer is a happy number\n",
    "\n",
    "    Input:\n",
    "        x, any positive integer, to check if it is happy\n",
    "    Output:\n",
    "        Boolean: True if the input is happy, False if the input is not\n",
    "\n",
    "    Notes: Any positive integer will either get to 1 or get stuck in the\n",
    "            loop: 4 -> 16 -> 37 -> 58 -> 89 -> 145 -> 42 -> 20 -> 4.\n",
    "            (https://mathworld.wolfram.com/HappyNumber.html)\n",
    "            The only numbers less than 10 that won't fall into the loop\n",
    "            are 1 and 7 (7 -> 49 -> 97 -> 130 -> 10 -> 1), by direct calculation.\n",
    "            Every positive number will eventually reach the loop\n",
    "            and get to 4 (or will hit another single digit that will\n",
    "            eventually reach 4) OR will eventually get to 7 (which leads to 1) \n",
    "            or 1. Thus, in the while loop we only need to go until the output\n",
    "            is less than 10.\n",
    "    \"\"\"\n",
    "    while x>9:\n",
    "        #getting the number of digits in the number\n",
    "        length=0\n",
    "        x1=x\n",
    "        while x1>=1:\n",
    "            x1=x1/10\n",
    "            length+=1\n",
    "\n",
    "        #isolating each digit and summing their squares\n",
    "        sum=0       \n",
    "        for i in range(length):\n",
    "            digit=x%10\n",
    "            sum+=digit**2\n",
    "            x=x//10\n",
    "        x=sum\n",
    "    \n",
    "    if x != 1 and x != 7:\n",
    "        return False\n",
    "    else:\n",
    "        return True\n",
    "\n",
    "\n",
    "    "
   ]
  },
  {
   "cell_type": "code",
   "execution_count": 53,
   "metadata": {},
   "outputs": [
    {
     "data": {
      "text/plain": [
       "3"
      ]
     },
     "execution_count": 53,
     "metadata": {},
     "output_type": "execute_result"
    }
   ],
   "source": [
    "(1034//10)%10"
   ]
  },
  {
   "cell_type": "code",
   "execution_count": 16,
   "metadata": {},
   "outputs": [],
   "source": [
    "def has_duplicate(input_list):\n",
    "    \"\"\"Function Description Here\n",
    "    \"\"\"\n",
    "    for item in input_list:\n",
    "        if input_list.count(item) > 1:\n",
    "            return True\n",
    "    return False\n",
    "\n"
   ]
  },
  {
   "cell_type": "code",
   "execution_count": 37,
   "metadata": {},
   "outputs": [
    {
     "data": {
      "text/plain": [
       "[7, 3, 9, 6, 8, 4, 2]"
      ]
     },
     "execution_count": 37,
     "metadata": {},
     "output_type": "execute_result"
    }
   ],
   "source": [
    "def remove_duplicates(input_list):\n",
    "    if has_duplicate(input_list) == False:\n",
    "        return input_list\n",
    "    else:\n",
    "        #main_list = input_list.copy()\n",
    "        #main_list.reverse()\n",
    "        #for item in main_list:\n",
    "        #    repetitions = main_list.count(item) - 1\n",
    "        #    for i in range(repetitions):\n",
    "        #        main_list.remove(item)\n",
    "        #main_list.reverse()\n",
    "        #return main_list\n",
    "        simple_list = []\n",
    "        [simple_list.append(item) for item in input_list if item not in simple_list]\n",
    "        return simple_list\n",
    "\n",
    "test1 = ['a','b','c','c','b','d','e','a','f']\n",
    "test2 = [7,3,7,9,3,6,8,9,3,6,8,3,6,8,4,2]\n",
    "\n",
    "remove_duplicates(test2)\n",
    "                "
   ]
  },
  {
   "cell_type": "code",
   "execution_count": 78,
   "metadata": {},
   "outputs": [
    {
     "name": "stdout",
     "output_type": "stream",
     "text": [
      "{2: [1, 2, 9, 10], 1: [3, 6], 5: [4, 5], 7: 7, 8: 8, 'asd': [11, 'a']}\n"
     ]
    }
   ],
   "source": [
    "input_dict = {1:2,2:2,3:1,4:5,5:5,6:1,7:7,8:8, 9:2,10:2,11:\"asd\", \"a\":\"asd\"}\n",
    "\n",
    "invert_dict = {}\n",
    "for k,v in input_dict.items():\n",
    "    if v in invert_dict.keys():\n",
    "        if type(invert_dict.get(v)) == list:\n",
    "            invert_dict.get(v).append(k)\n",
    "        else:\n",
    "            invert_dict[v]=[invert_dict.get(v),k]\n",
    "    else:\n",
    "        invert_dict[v]=k\n",
    "print(invert_dict)\n",
    "\n",
    "#print(testdict)"
   ]
  },
  {
   "cell_type": "code",
   "execution_count": 96,
   "metadata": {},
   "outputs": [
    {
     "name": "stdout",
     "output_type": "stream",
     "text": [
      "True\n"
     ]
    },
    {
     "data": {
      "text/plain": [
       "'ebiil, jv kxjb fp jfqze'"
      ]
     },
     "execution_count": 96,
     "metadata": {},
     "output_type": "execute_result"
    }
   ],
   "source": [
    "def cipher_dict(n):\n",
    "    alphabet=\"abcdefghijklmnopqrstuvwxyz\"\n",
    "    return {alphabet[letter]:alphabet[(letter-n)%26] for letter in range(26)}\n",
    "    \n",
    "    \n",
    "def caesar_cipher(input_text):\n",
    "    \"\"\"Function Description Here\n",
    "    \"\"\"\n",
    "    cipher = cipher_dict(3)\n",
    "    new_string = \"\"\n",
    "\n",
    "    for letter in input_text.lower():\n",
    "        if letter in cipher.keys():\n",
    "            new_string += cipher[letter]\n",
    "        else:\n",
    "            new_string += letter\n",
    "    return new_string\n",
    "\n",
    "cipher_dict(3)\n",
    "print('a' in cipher_dict(3).keys())\n",
    "caesar_cipher(\"HeLLo, my name is mitch\")"
   ]
  },
  {
   "cell_type": "code",
   "execution_count": 151,
   "metadata": {},
   "outputs": [
    {
     "name": "stdout",
     "output_type": "stream",
     "text": [
      "{'art'}\n",
      "{'tar', 'art'}\n",
      "{'rat', 'tar', 'art'}\n",
      "{'tru'}\n",
      "{'shi'}\n",
      "{'his', 'shi'}\n",
      "{'true'}\n",
      "{'this'}\n",
      "{'rat', 'tar', 'art'}\n"
     ]
    }
   ],
   "source": [
    "file_array = ['art', 'true', 'tar', 'tru', 'rat', 'shi', 'his', 'this']\n",
    "\n",
    "#letter_file_array = [item[0] for item in file_array]\n",
    "#print({letter:[item for item in file_array if item[0]==letter] for letter in letter_file_array})\n",
    "\n",
    "anagrams_file_list = file_array\n",
    "file_sorted = sorted(anagrams_file_list, key=len)\n",
    "sorted_ordered = [\"\".join(sorted(item)) for item in file_sorted]\n",
    "\n",
    "checked=set()\n",
    "largest_anagrams=set()\n",
    "for item in sorted_ordered:\n",
    "    temp_anagrams={file_sorted[sorted_ordered.index(item)]}\n",
    "    if item not in checked:\n",
    "        i=0\n",
    "        for word in sorted_ordered:\n",
    "            if len(word)==len(item):\n",
    "                if word==item:\n",
    "                    temp_anagrams.add(file_sorted[i])\n",
    "                    print(temp_anagrams)\n",
    "            elif len(word)>len(item):\n",
    "                break\n",
    "            i += 1\n",
    "        checked.add(item)\n",
    "    if len(temp_anagrams)>len(largest_anagrams):\n",
    "        largest_anagrams = temp_anagrams\n",
    "\n",
    "print(largest_anagrams)\n",
    "\n",
    "#anagrams_dict =  {words_exploded.count(item):set(word for word in anagrams_file_list if {letter:word.count(letter) for letter in word}==item) for item in words_exploded}\n",
    "\n",
    "#max_anagrams=max(anagrams_dict.keys())\n",
    "#anagrams_dict[max_anagrams]\n"
   ]
  },
  {
   "cell_type": "code",
   "execution_count": 32,
   "metadata": {},
   "outputs": [
    {
     "name": "stdout",
     "output_type": "stream",
     "text": [
      "[1, 2, 3, 4]\n"
     ]
    }
   ],
   "source": [
    "list=[1,2,3,4,5,6,7,8,9]\n",
    "new_list=list[:4]\n",
    "print(new_list)"
   ]
  },
  {
   "cell_type": "code",
   "execution_count": 44,
   "metadata": {},
   "outputs": [
    {
     "name": "stdout",
     "output_type": "stream",
     "text": [
      "[4, 13, 14, 31, 42, 50, 63, 83, 94, 94, 94, 103, 106, 132, 147, 148, 162, 172, 183, 184, 191, 204, 208, 237, 264, 268, 279, 281, 284, 301, 317, 318, 324, 332, 333, 340, 358, 369, 380, 381, 401, 427, 435, 436, 466, 476, 484, 495, 495, 502, 503, 516, 526, 528, 547, 558, 560, 563, 565, 574, 574, 589, 630, 631, 635, 636, 659, 681, 692, 714, 715, 718, 726, 744, 748, 748, 763, 764, 785, 787, 790, 793, 806, 813, 823, 828, 830, 837, 852, 864, 868, 879, 898, 913, 914, 919, 940, 961, 991]\n"
     ]
    },
    {
     "data": {
      "text/plain": [
       "9"
      ]
     },
     "execution_count": 44,
     "metadata": {},
     "output_type": "execute_result"
    }
   ],
   "source": [
    "def bs(x, input_list):\n",
    "    list_size = len(input_list)\n",
    "    div_index = list_size//2\n",
    "\n",
    "    if x >= input_list[-1]:\n",
    "        return list_size\n",
    "\n",
    "    if x <= input_list[0]:\n",
    "        return 0\n",
    "\n",
    "    if x == input_list[div_index]:\n",
    "        return div_index\n",
    "\n",
    "    if x > input_list[div_index]:\n",
    "        new_list=input_list[div_index:]\n",
    "        return div_index + bs(x, new_list)\n",
    "\n",
    "    if x < input_list[div_index]:\n",
    "        new_list=input_list[:div_index]\n",
    "        return bs(x, new_list)\n",
    "\n",
    "import random\n",
    "rand_list=[random.randrange(0,1000) for i in range(99)]\n",
    "rand_list.sort()\n",
    "print([4, 13, 14, 31, 42, 50, 63, 83, 94, 94, 94, 103, 106, 132, 147, 148, 162, 172, 183, 184, 191, 204, 208, 237, 264, 268, 279, 281, 284, 301, 317, 318, 324, 332, 333, 340, 358, 369, 380, 381, 401, 427, 435, 436, 466, 476, 484, 495, 495, 502, 503, 516, 526, 528, 547, 558, 560, 563, 565, 574, 574, 589, 630, 631, 635, 636, 659, 681, 692, 714, 715, 718, 726, 744, 748, 748, 763, 764, 785, 787, 790, 793, 806, 813, 823, 828, 830, 837, 852, 864, 868, 879, 898, 913, 914, 919, 940, 961, 991])\n",
    "\n",
    "bs(94, [4, 13, 14, 31, 42, 50, 63, 83, 94, 94, 94, 103, 106, 132, 147, 148, 162, 172, 183, 184, 191, 204, 208, 237, 264, 268, 279, 281, 284, 301, 317, 318, 324, 332, 333, 340, 358, 369, 380, 381, 401, 427, 435, 436, 466, 476, 484, 495, 495, 502, 503, 516, 526, 528, 547, 558, 560, 563, 565, 574, 574, 589, 630, 631, 635, 636, 659, 681, 692, 714, 715, 718, 726, 744, 748, 748, 763, 764, 785, 787, 790, 793, 806, 813, 823, 828, 830, 837, 852, 864, 868, 879, 898, 913, 914, 919, 940, 961, 991])\n"
   ]
  },
  {
   "cell_type": "code",
   "execution_count": 5,
   "metadata": {},
   "outputs": [
    {
     "name": "stdout",
     "output_type": "stream",
     "text": [
      "atmt\n",
      "tep\n",
      "soc\n",
      "ti\n",
      "tesn\n",
      "rao\n"
     ]
    }
   ],
   "source": [
    "test_list=['attempt','stoic','treason']\n",
    "for word in test_list:\n",
    "    left_word = word[::2]\n",
    "    right_word = word[1::2]\n",
    "    print(left_word)\n",
    "    print(right_word)"
   ]
  }
 ],
 "metadata": {
  "interpreter": {
   "hash": "b5747a2ca766027b2ef4894c2c19141c31b304e9da0aebd17d1cd9479fab9782"
  },
  "kernelspec": {
   "display_name": "Python 3.9.7 64-bit ('base': conda)",
   "language": "python",
   "name": "python3"
  },
  "language_info": {
   "codemirror_mode": {
    "name": "ipython",
    "version": 3
   },
   "file_extension": ".py",
   "mimetype": "text/x-python",
   "name": "python",
   "nbconvert_exporter": "python",
   "pygments_lexer": "ipython3",
   "version": "3.9.7"
  },
  "orig_nbformat": 4
 },
 "nbformat": 4,
 "nbformat_minor": 2
}
