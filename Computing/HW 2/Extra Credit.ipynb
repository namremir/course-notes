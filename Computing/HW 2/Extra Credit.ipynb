{
 "cells": [
  {
   "cell_type": "markdown",
   "id": "df19ef6f",
   "metadata": {},
   "source": [
    "# Extra Credit\n",
    "\n",
    "Feel free to play around in the .ipynb, but put all necessary code to run your functions in last_first_EC.py for submission."
   ]
  },
  {
   "cell_type": "markdown",
   "id": "9f5980d6",
   "metadata": {},
   "source": [
    "1.) In the United States there are six coins in general circulation:\n",
    "\n",
    "1, 5, 10, 25, 50, 100 cent coins\n",
    "\n",
    "It is possible to make change for 10 cents in the following ways:\n",
    "\n",
    "1 dime, 2 nickels, 1 nickel 5 pennies, 10 pennies\n",
    "\n",
    "Write a function, **make_change(cash)** that accepts an integer number, *cash*,  of cents and calculates how many different ways one can make change for that amount using any number of coins, returning the integer count. \n",
    "\n",
    "What is the answer for 2 dollars?  "
   ]
  },
  {
   "cell_type": "code",
   "execution_count": 70,
   "id": "ac6050b7",
   "metadata": {},
   "outputs": [],
   "source": [
    "def make_change(cash, denominations=[100,50,25,10,5,1]):\n",
    "    if cash < 0:\n",
    "        return 0\n",
    "\n",
    "    if len(denominations) > 1:\n",
    "        new_denominations = denominations.copy()\n",
    "        new_denominations.remove(new_denominations[0])\n",
    "    \n",
    "    if len(denominations) == 1:\n",
    "        return 1\n",
    "    \n",
    "    return make_change(cash - denominations[0],denominations) + make_change(cash, new_denominations) "
   ]
  },
  {
   "cell_type": "code",
   "execution_count": 77,
   "id": "5930a784",
   "metadata": {},
   "outputs": [
    {
     "data": {
      "text/plain": [
       "13"
      ]
     },
     "execution_count": 77,
     "metadata": {},
     "output_type": "execute_result"
    }
   ],
   "source": [
    "make_change(27)"
   ]
  },
  {
   "cell_type": "markdown",
   "id": "8ce639c3",
   "metadata": {},
   "source": [
    "2.) Wordle is a word game where you guess five letter words. If you guess a letter in the correct place it will print green or if the letter is in the word but the wrong position yellow. If a letter is not in the word it will print gray. The Wordle class will return a tuple for each letter with a 0 for not in the word, 1 for in the word but the wrong position, or a 2 if it is in the correct possition. Write a function **solver(wordle_to_solve, wordle_words)** that accepts a wordle object and a list of valid wordle words and attempts to solve the wordle (your solver should be able to solve in fewer than 10 steps, but the smaller the number the better)."
   ]
  },
  {
   "cell_type": "code",
   "execution_count": 1,
   "id": "8c6ada74",
   "metadata": {},
   "outputs": [],
   "source": [
    "import random\n",
    "import re\n",
    "\n",
    "from collections import Counter\n",
    "\n",
    "# Load text to get all words of length five\n",
    "with open('Scrabble2019.txt', 'r') as file:\n",
    "    text = file.read()\n",
    "    \n",
    "wordle_words = {w for w in text.lower().split() if len(w)==5}\n",
    "\n",
    "#Load text for commonly used words of length five\n",
    "with open('austen.txt', 'r') as file:\n",
    "    text = file.read()\n",
    "\n",
    "aus_counter = Counter(re.sub(\"[ ]+\", ' ', text.lower()).split())\n",
    "\n",
    "common_words = {w[0] for w in aus_counter.most_common(2_000)}.intersection(wordle_words)"
   ]
  },
  {
   "cell_type": "code",
   "execution_count": 2,
   "id": "a75088bc",
   "metadata": {},
   "outputs": [],
   "source": [
    "# Define the Wordle class\n",
    "class Wordle:\n",
    "    \"\"\"A Class for playing wordle\"\"\"\n",
    "    wordle_words = {word.lower() for word in wordle_words if len(word)==5}\n",
    "    \n",
    "    def __init__(self, word):\n",
    "        if word.lower() not in self.wordle_words:\n",
    "            raise ValueError('Word not in dictionary')\n",
    "        self.__word = word.lower()\n",
    "        self.__state = 'Unsolved'\n",
    "        self.__guesses = []\n",
    "        \n",
    "    def __str__(self):\n",
    "        return ''.join([l if l in [w[i] for w in self.__guesses] else '_' for i,l in enumerate(self.__word)])\n",
    "    \n",
    "    def info(self):\n",
    "        for guess in self__guesses:\n",
    "            self.__print(guess)\n",
    "        return self.__guesses\n",
    "    \n",
    "    def __print(self, guess):\n",
    "        for i, letter in enumerate(guess.lower()):\n",
    "            if letter == self.__word[i]:\n",
    "                print('\\x1b[1;35;42m'+letter, end ='')\n",
    "            elif letter in self.__word:\n",
    "                print('\\x1b[1;35;43m'+letter, end ='')\n",
    "            else:\n",
    "                print('\\x1b[1;35;40m'+letter, end ='')\n",
    "        print('\\x1b[0m')\n",
    "        \n",
    "    def __match(self, guess):\n",
    "        output = []\n",
    "        for i, letter in enumerate(guess.lower()):\n",
    "            if letter == self.__word[i]:\n",
    "                output.append(2)\n",
    "            elif letter in self.__word:\n",
    "                output.append(1)\n",
    "            else:\n",
    "                output.append(0)\n",
    "        return output\n",
    "        \n",
    "    def guess(self, guess):\n",
    "        if guess not in self.wordle_words:\n",
    "            raise ValueError('Word not in dictionary')\n",
    "        self.__print(guess)\n",
    "        if self.__state == 'Unsolved':\n",
    "            self.__guesses.append(guess)\n",
    "            if self.__word == guess.lower():\n",
    "                self.__state = 'Solved'\n",
    "        return self.__match(guess)\n",
    "                \n",
    "    def reveal(self, output = False):\n",
    "        if self.__state != 'Solved':\n",
    "            self.__state = 'Revealed'\n",
    "        print(f'{self.__state}: {self.__word}')\n",
    "        if output:\n",
    "            return self.__state, self.__guesses\n",
    "            "
   ]
  },
  {
   "cell_type": "code",
   "execution_count": 3,
   "id": "f77390dd",
   "metadata": {},
   "outputs": [],
   "source": [
    "# Function to help you test out your solver\n",
    "def random_Wordle(word_dict):\n",
    "     return Wordle(random.sample([word.lower() for word in word_dict if len(word)==5], 1)[0])"
   ]
  },
  {
   "cell_type": "code",
   "execution_count": 4,
   "id": "db710bef",
   "metadata": {},
   "outputs": [],
   "source": [
    "test = random_Wordle(common_words)"
   ]
  },
  {
   "cell_type": "code",
   "execution_count": 5,
   "id": "48e256a6",
   "metadata": {},
   "outputs": [
    {
     "name": "stdout",
     "output_type": "stream",
     "text": [
      "\u001b[1;35;40mr\u001b[1;35;42ma\u001b[1;35;40mi\u001b[1;35;40ms\u001b[1;35;40me\u001b[0m\n"
     ]
    },
    {
     "data": {
      "text/plain": [
       "[0, 2, 0, 0, 0]"
      ]
     },
     "execution_count": 5,
     "metadata": {},
     "output_type": "execute_result"
    }
   ],
   "source": [
    "test.guess('raise')"
   ]
  },
  {
   "cell_type": "code",
   "execution_count": 6,
   "id": "6ecd43b2",
   "metadata": {},
   "outputs": [],
   "source": [
    "def solver(wordle_to_solve, wordle_words):\n",
    "    pass"
   ]
  }
 ],
 "metadata": {
  "kernelspec": {
   "display_name": "Python 3 (ipykernel)",
   "language": "python",
   "name": "python3"
  },
  "language_info": {
   "codemirror_mode": {
    "name": "ipython",
    "version": 3
   },
   "file_extension": ".py",
   "mimetype": "text/x-python",
   "name": "python",
   "nbconvert_exporter": "python",
   "pygments_lexer": "ipython3",
   "version": "3.9.7"
  }
 },
 "nbformat": 4,
 "nbformat_minor": 5
}
